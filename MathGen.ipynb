{
 "cells": [
  {
   "cell_type": "code",
   "execution_count": 7,
   "metadata": {},
   "outputs": [
    {
     "name": "stdout",
     "output_type": "stream",
     "text": [
      "('$92 - 28 a = 66 a + 21$', '$\\\\frac{71}{94}$')\n"
     ]
    }
   ],
   "source": [
    "import random\n",
    "import sympy as sp\n",
    "from sympy import init_printing\n",
    "\n",
    "init_printing()\n",
    "\n",
    "def generate_symbol():\n",
    "    return random.choice('abcdefghijklmnopqrstuvwxyz')\n",
    "\n",
    "def generate_linear_equation():\n",
    "    \"\"\"Generates a random linear equation of the form ax + b = cx+d\"\"\"\n",
    "    x = sp.Symbol(generate_symbol())\n",
    "    a = random.randint(-100, 100)\n",
    "    b = random.randint(-100, 100)\n",
    "    c = random.randint(-100, 100)\n",
    "    d = random.randint(-100, 100)\n",
    "    if d==a:\n",
    "        d+=1\n",
    "    equation = sp.Eq(a*x + b, c*x + d)\n",
    "    solution = sp.solve(equation, x)[0]\n",
    "    return '$'+sp.latex(equation)+'$', '$'+sp.latex(solution)+'$'\n",
    "\n",
    "# Example usage\n",
    "print(generate_linear_equation())\n"
   ]
  },
  {
   "cell_type": "code",
   "execution_count": 8,
   "metadata": {},
   "outputs": [
    {
     "data": {
      "text/plain": [
       "('$10 y^{2} - 9 y + 6 = 8 y^{2} + 7 y + 10$',\n",
       " '$\\\\left[ 4 - 3 \\\\sqrt{2}, \\\\  4 + 3 \\\\sqrt{2}\\\\right]$')"
      ]
     },
     "execution_count": 8,
     "metadata": {},
     "output_type": "execute_result"
    }
   ],
   "source": [
    "def generate_quadratic_equation():\n",
    "    \"\"\"Generate a random quadratic equation\"\"\"\n",
    "    x = sp.Symbol(generate_symbol())\n",
    "    shortcircuit = 100\n",
    "    n=0\n",
    "    while n < shortcircuit:\n",
    "        n+=1\n",
    "        a,b,c,d,e,f = [random.randint(-10,10) for _ in range(6)]\n",
    "\n",
    "        A=a-d\n",
    "        B=b-e\n",
    "        C=c-f\n",
    "        discriminant = B**2 - 4*A*C\n",
    "        if discriminant >= 0:\n",
    "            break\n",
    "\n",
    "    equation = sp.Eq(a*x**2+b*x+c, d*x**2+e*x+f)\n",
    "    solution = sp.solve(equation,x)\n",
    "\n",
    "\n",
    "    return '$'+sp.latex(equation)+'$','$'+sp.latex(solution)+'$'\n",
    "\n",
    "generate_quadratic_equation()"
   ]
  },
  {
   "cell_type": "code",
   "execution_count": 14,
   "metadata": {},
   "outputs": [
    {
     "data": {
      "image/png": "[encoded data removed]",
      "text/latex": [
       "$\\displaystyle 549.0$"
      ],
      "text/plain": [
       "549.0"
      ]
     },
     "execution_count": 14,
     "metadata": {},
     "output_type": "execute_result"
    }
   ],
   "source": [
    "3**2*(1-(-3)**5)/4"
   ]
  },
  {
   "cell_type": "code",
   "execution_count": 31,
   "metadata": {},
   "outputs": [
    {
     "data": {
      "text/plain": [
       "('$-68 + 81=$', '$13$')"
      ]
     },
     "execution_count": 31,
     "metadata": {},
     "output_type": "execute_result"
    }
   ],
   "source": [
    "def generate_mental_addition():\n",
    "    x = sp.Symbol(generate_symbol())\n",
    "    a,b = [random.randint(-99,99) for _ in range(2)]\n",
    "    \n",
    "    eq = sp.Add(a,b,evaluate=False)\n",
    "    sol = a+b\n",
    "    \n",
    "    return '$'+sp.latex(eq)+'=$','$'+sp.latex(sol)+'$'\n",
    "\n",
    "generate_mental_addition()"
   ]
  },
  {
   "cell_type": "code",
   "execution_count": 32,
   "metadata": {},
   "outputs": [],
   "source": [
    "from jinja2 import Template\n",
    "\n",
    "# Generate a batch of problems\n",
    "num_problems = 30\n",
    "#problems = [generate_linear_equation() for _ in range(num_problems)]\n",
    "#problems = [generate_quadratic_equation() for _ in range(num_problems)]\n",
    "problems = [generate_mental_addition() for _ in range(num_problems)]\n",
    "\n",
    "# Load LaTeX template\n",
    "with open(\"worksheet_template.tex\") as f:\n",
    "    template = Template(f.read())\n",
    "\n",
    "# Render LaTeX with problems\n",
    "latex_content = template.render(problems=problems)\n",
    "\n",
    "# Save the generated LaTeX file\n",
    "with open(\"worksheet.tex\", \"w\") as f:\n",
    "    f.write(latex_content)"
   ]
  },
  {
   "cell_type": "code",
   "execution_count": null,
   "metadata": {},
   "outputs": [],
   "source": []
  }
 ],
 "metadata": {
  "kernelspec": {
   "display_name": "Python 3 (ipykernel)",
   "language": "python",
   "name": "python3"
  },
  "language_info": {
   "codemirror_mode": {
    "name": "ipython",
    "version": 3
   },
   "file_extension": ".py",
   "mimetype": "text/x-python",
   "name": "python",
   "nbconvert_exporter": "python",
   "pygments_lexer": "ipython3",
   "version": "3.12.3"
  }
 },
 "nbformat": 4,
 "nbformat_minor": 2
}
